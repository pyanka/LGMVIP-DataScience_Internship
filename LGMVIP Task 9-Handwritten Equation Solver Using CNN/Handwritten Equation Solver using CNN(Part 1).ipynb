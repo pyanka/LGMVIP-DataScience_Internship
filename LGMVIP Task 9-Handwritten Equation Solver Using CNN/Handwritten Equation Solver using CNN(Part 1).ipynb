{
 "cells": [
  {
   "cell_type": "markdown",
   "id": "ad99ae1b",
   "metadata": {},
   "source": [
    "# LetsGrowMore\n",
    "\n",
    "Name : Priyanka Yadav\n",
    "\n",
    "Task 09 : Handwritten Equation Solver using CNN :\n",
    "\n",
    "Level : Advanced level task\n",
    "    \n",
    "Dataset link : https://www.kaggle.com/xainano/handwrittenmathsymbols\n"
   ]
  },
  {
   "cell_type": "markdown",
   "id": "e4eeca2b",
   "metadata": {},
   "source": [
    "# Part 1 : Data Exraction"
   ]
  },
  {
   "cell_type": "markdown",
   "id": "08d77144",
   "metadata": {},
   "source": [
    "# Importing Libraries"
   ]
  },
  {
   "cell_type": "code",
   "execution_count": 1,
   "id": "717e5a94",
   "metadata": {},
   "outputs": [
    {
     "name": "stdout",
     "output_type": "stream",
     "text": [
      "Requirement already satisfied: opencv-python in c:\\users\\15dbcom40\\anaconda3\\lib\\site-packages (4.5.5.64)\n",
      "Requirement already satisfied: numpy>=1.19.3 in c:\\users\\15dbcom40\\anaconda3\\lib\\site-packages (from opencv-python) (1.20.3)\n",
      "Note: you may need to restart the kernel to use updated packages.\n"
     ]
    }
   ],
   "source": [
    "pip install opencv-python"
   ]
  },
  {
   "cell_type": "code",
   "execution_count": 2,
   "id": "21edd4dc",
   "metadata": {},
   "outputs": [],
   "source": [
    "import numpy as np\n",
    "import cv2\n",
    "from PIL import Image\n",
    "from matplotlib import pyplot as plt\n",
    "%matplotlib inline\n",
    "import os\n",
    "from os import listdir\n",
    "from os.path import isfile, join\n",
    "import pandas as pd\n"
   ]
  },
  {
   "cell_type": "code",
   "execution_count": 3,
   "id": "63d779e2",
   "metadata": {},
   "outputs": [],
   "source": [
    "def load_images_from_folder(folder):\n",
    "    train_data=[]\n",
    "    for filename in os.listdir(folder):\n",
    "        img = cv2.imread(os.path.join(folder,filename),cv2.IMREAD_GRAYSCALE)\n",
    "        img=~img\n",
    "        if img is not None:\n",
    "            ret,thresh=cv2.threshold(img,127,255,cv2.THRESH_BINARY)\n",
    "\n",
    "            ctrs,ret=cv2.findContours(thresh,cv2.RETR_EXTERNAL,cv2.CHAIN_APPROX_NONE)\n",
    "            cnt=sorted(ctrs, key=lambda ctr: cv2.boundingRect(ctr)[0])\n",
    "            w=int(28)\n",
    "            h=int(28)\n",
    "            maxi=0\n",
    "            for c in cnt:\n",
    "                x,y,w,h=cv2.boundingRect(c)\n",
    "                maxi=max(w*h,maxi)\n",
    "                if maxi==w*h:\n",
    "                    x_max=x\n",
    "                    y_max=y\n",
    "                    w_max=w\n",
    "                    h_max=h\n",
    "            im_crop= thresh[y_max:y_max+h_max+10, x_max:x_max+w_max+10]\n",
    "            im_resize = cv2.resize(im_crop,(28,28))\n",
    "            im_resize=np.reshape(im_resize,(784,1))\n",
    "            train_data.append(im_resize)\n",
    "    return train_data"
   ]
  },
  {
   "cell_type": "code",
   "execution_count": 4,
   "id": "5ac1c330",
   "metadata": {},
   "outputs": [],
   "source": [
    "data=[]"
   ]
  },
  {
   "cell_type": "code",
   "execution_count": 5,
   "id": "1f0a42a4",
   "metadata": {},
   "outputs": [
    {
     "name": "stdout",
     "output_type": "stream",
     "text": [
      "33997\n"
     ]
    }
   ],
   "source": [
    "data=load_images_from_folder('C://Users//15DBCOM40//Desktop//Internship Projects//LGMVIP Task 9-Handwritten Equation Solver Using CNN//extracted_images//-')\n",
    "len(data)\n",
    "for i in range(0,len(data)):\n",
    "    data[i]=np.append(data[i],['10'])\n",
    "    \n",
    "print(len(data))"
   ]
  },
  {
   "cell_type": "code",
   "execution_count": 6,
   "id": "7f97756f",
   "metadata": {},
   "outputs": [
    {
     "name": "stdout",
     "output_type": "stream",
     "text": [
      "59109\n"
     ]
    }
   ],
   "source": [
    "data11=load_images_from_folder('C://Users//15DBCOM40//Desktop//Internship Projects//LGMVIP Task 9-Handwritten Equation Solver Using CNN//extracted_images//+')\n",
    "\n",
    "for i in range(0,len(data11)):\n",
    "    data11[i]=np.append(data11[i],['11'])\n",
    "data=np.concatenate((data,data11))\n",
    "print(len(data))"
   ]
  },
  {
   "cell_type": "code",
   "execution_count": 7,
   "id": "cec68351",
   "metadata": {},
   "outputs": [
    {
     "name": "stdout",
     "output_type": "stream",
     "text": [
      "64574\n"
     ]
    }
   ],
   "source": [
    "data0=load_images_from_folder('C://Users//15DBCOM40//Desktop//Internship Projects//LGMVIP Task 9-Handwritten Equation Solver Using CNN//extracted_images//0//')\n",
    "\n",
    "\n",
    "for i in range(0,len(data0)):\n",
    "    data0[i]=np.append(data0[i],['0'])\n",
    "data=np.concatenate((data,data0))\n",
    "print(len(data))"
   ]
  },
  {
   "cell_type": "code",
   "execution_count": 8,
   "id": "434977b2",
   "metadata": {},
   "outputs": [
    {
     "name": "stdout",
     "output_type": "stream",
     "text": [
      "91094\n"
     ]
    }
   ],
   "source": [
    "data1=load_images_from_folder('C://Users//15DBCOM40//Desktop//Internship Projects//LGMVIP Task 9-Handwritten Equation Solver Using CNN//extracted_images//extracted_images//1')\n",
    "\n",
    "for i in range(0,len(data1)):\n",
    "    data1[i]=np.append(data1[i],['1'])\n",
    "data=np.concatenate((data,data1))\n",
    "print(len(data))"
   ]
  },
  {
   "cell_type": "code",
   "execution_count": 9,
   "id": "22a279d8",
   "metadata": {},
   "outputs": [
    {
     "name": "stdout",
     "output_type": "stream",
     "text": [
      "117235\n"
     ]
    }
   ],
   "source": [
    "data2=load_images_from_folder('C://Users//15DBCOM40//Desktop//Internship Projects//LGMVIP Task 9-Handwritten Equation Solver Using CNN//extracted_images//extracted_images//2')\n",
    "\n",
    "for i in range(0,len(data2)):\n",
    "    data2[i]=np.append(data2[i],['2'])\n",
    "data=np.concatenate((data,data2))\n",
    "print(len(data))\n"
   ]
  },
  {
   "cell_type": "code",
   "execution_count": 10,
   "id": "9397d421",
   "metadata": {},
   "outputs": [
    {
     "name": "stdout",
     "output_type": "stream",
     "text": [
      "128144\n"
     ]
    }
   ],
   "source": [
    "data3=load_images_from_folder('C://Users//15DBCOM40//Desktop//Internship Projects//LGMVIP Task 9-Handwritten Equation Solver Using CNN//extracted_images//extracted_images//3')\n",
    "for i in range(0,len(data3)):\n",
    "    data3[i]=np.append(data3[i],['3'])\n",
    "data=np.concatenate((data,data3))\n",
    "print(len(data))"
   ]
  },
  {
   "cell_type": "code",
   "execution_count": 11,
   "id": "2c821768",
   "metadata": {},
   "outputs": [
    {
     "name": "stdout",
     "output_type": "stream",
     "text": [
      "135540\n"
     ]
    }
   ],
   "source": [
    "data4=load_images_from_folder('C://Users//15DBCOM40//Desktop//Internship Projects//LGMVIP Task 9-Handwritten Equation Solver Using CNN//extracted_images//extracted_images//4')\n",
    "for i in range(0,len(data4)):\n",
    "    data4[i]=np.append(data4[i],['4'])\n",
    "data=np.concatenate((data,data4))\n",
    "print(len(data))\n"
   ]
  },
  {
   "cell_type": "code",
   "execution_count": 12,
   "id": "e6ece3dd",
   "metadata": {},
   "outputs": [
    {
     "name": "stdout",
     "output_type": "stream",
     "text": [
      "139085\n"
     ]
    }
   ],
   "source": [
    "data5=load_images_from_folder('C://Users//15DBCOM40//Desktop//Internship Projects//LGMVIP Task 9-Handwritten Equation Solver Using CNN//extracted_images//extracted_images//5//')\n",
    "\n",
    "for i in range(0,len(data5)):\n",
    "    data5[i]=np.append(data5[i],['5'])\n",
    "data=np.concatenate((data,data5))\n",
    "print(len(data))"
   ]
  },
  {
   "cell_type": "code",
   "execution_count": 13,
   "id": "4c430d3c",
   "metadata": {},
   "outputs": [
    {
     "name": "stdout",
     "output_type": "stream",
     "text": [
      "142203\n"
     ]
    }
   ],
   "source": [
    "data6=load_images_from_folder('C://Users//15DBCOM40//Desktop//Internship Projects//LGMVIP Task 9-Handwritten Equation Solver Using CNN//extracted_images//extracted_images//6')\n",
    "\n",
    "for i in range(0,len(data6)):\n",
    "    data6[i]=np.append(data6[i],['6'])\n",
    "data=np.concatenate((data,data6))\n",
    "print(len(data))"
   ]
  },
  {
   "cell_type": "code",
   "execution_count": 14,
   "id": "fa2af04d",
   "metadata": {},
   "outputs": [
    {
     "name": "stdout",
     "output_type": "stream",
     "text": [
      "145112\n"
     ]
    }
   ],
   "source": [
    "data7=load_images_from_folder('C://Users//15DBCOM40//Desktop//Internship Projects//LGMVIP Task 9-Handwritten Equation Solver Using CNN//extracted_images//extracted_images//7')\n",
    "\n",
    "for i in range(0,len(data7)):\n",
    "    data7[i]=np.append(data7[i],['7'])\n",
    "data=np.concatenate((data,data7))\n",
    "print(len(data))"
   ]
  },
  {
   "cell_type": "code",
   "execution_count": 15,
   "id": "25fe6423",
   "metadata": {},
   "outputs": [
    {
     "name": "stdout",
     "output_type": "stream",
     "text": [
      "148180\n"
     ]
    }
   ],
   "source": [
    "data8=load_images_from_folder('C://Users//15DBCOM40//Desktop//Internship Projects//LGMVIP Task 9-Handwritten Equation Solver Using CNN//extracted_images//extracted_images//8')\n",
    "\n",
    "for i in range(0,len(data8)):\n",
    "    data8[i]=np.append(data8[i],['8'])\n",
    "data=np.concatenate((data,data8))\n",
    "print(len(data))\n"
   ]
  },
  {
   "cell_type": "code",
   "execution_count": 16,
   "id": "4719aca3",
   "metadata": {},
   "outputs": [
    {
     "name": "stdout",
     "output_type": "stream",
     "text": [
      "151917\n"
     ]
    }
   ],
   "source": [
    "data9=load_images_from_folder('C://Users//15DBCOM40//Desktop//Internship Projects//LGMVIP Task 9-Handwritten Equation Solver Using CNN//extracted_images//extracted_images//9')\n",
    "\n",
    "for i in range(0,len(data9)):\n",
    "    data9[i]=np.append(data9[i],['9'])\n",
    "data=np.concatenate((data,data9))\n",
    "print(len(data))"
   ]
  },
  {
   "cell_type": "code",
   "execution_count": 17,
   "id": "7522b9c1",
   "metadata": {},
   "outputs": [
    {
     "name": "stdout",
     "output_type": "stream",
     "text": [
      "164284\n"
     ]
    }
   ],
   "source": [
    "data12=load_images_from_folder('C://Users//15DBCOM40//Desktop//Internship Projects//LGMVIP Task 9-Handwritten Equation Solver Using CNN//extracted_images//extracted_images//A')\n",
    "\n",
    "for i in range(0,len(data12)):\n",
    "    data12[i]=np.append(data12[i],['12'])\n",
    "data=np.concatenate((data,data12))\n",
    "print(len(data))"
   ]
  },
  {
   "cell_type": "code",
   "execution_count": 18,
   "id": "955a0655",
   "metadata": {},
   "outputs": [],
   "source": [
    "df=pd.DataFrame(data,index=None)\n",
    "df.to_csv('train_final.csv',index=False)"
   ]
  },
  {
   "cell_type": "code",
   "execution_count": null,
   "id": "01a59e0a",
   "metadata": {},
   "outputs": [],
   "source": []
  }
 ],
 "metadata": {
  "kernelspec": {
   "display_name": "Python 3 (ipykernel)",
   "language": "python",
   "name": "python3"
  },
  "language_info": {
   "codemirror_mode": {
    "name": "ipython",
    "version": 3
   },
   "file_extension": ".py",
   "mimetype": "text/x-python",
   "name": "python",
   "nbconvert_exporter": "python",
   "pygments_lexer": "ipython3",
   "version": "3.9.7"
  }
 },
 "nbformat": 4,
 "nbformat_minor": 5
}
